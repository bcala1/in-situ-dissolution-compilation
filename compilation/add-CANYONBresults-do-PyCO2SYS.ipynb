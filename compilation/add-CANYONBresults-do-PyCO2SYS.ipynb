{
 "cells": [
  {
   "cell_type": "code",
   "execution_count": 1,
   "metadata": {},
   "outputs": [
    {
     "data": {
      "text/plain": [
       "'1.8.1'"
      ]
     },
     "execution_count": 1,
     "metadata": {},
     "output_type": "execute_result"
    }
   ],
   "source": [
    "import matplotlib.pyplot as plt\n",
    "import numpy as np\n",
    "import pandas as pd\n",
    "import PyCO2SYS as pyco2\n",
    "\n",
    "pyco2.__version__"
   ]
  },
  {
   "cell_type": "markdown",
   "metadata": {},
   "source": [
    "## add the CANYON-B results to the existing dataframe"
   ]
  },
  {
   "cell_type": "code",
   "execution_count": 2,
   "metadata": {},
   "outputs": [],
   "source": [
    "df = pd.read_csv(\"data/in_situ_rates_compiled_withWOA.csv\")\n",
    "cb = pd.read_csv(\"data/compiled_WOA_CANYONBresults.csv\")\n",
    "\n",
    "df[\"TA_cb\"] = cb['Alkalinity']\n",
    "df[\"DIC_cb\"] = cb['DIC']\n",
    "df[\"NO3_cb\"] = cb[\"Nitrate\"]\n",
    "df[\"PO4_cb\"] = cb[\"Phosphate\"]\n",
    "df[\"SiOH4_cb\"] = cb[\"Silicate\"]\n",
    "df[\"pH_insitu_cb\"] = cb[\"pH\"]"
   ]
  },
  {
   "cell_type": "markdown",
   "metadata": {},
   "source": [
    "## PyCO2Sys"
   ]
  },
  {
   "cell_type": "code",
   "execution_count": 3,
   "metadata": {},
   "outputs": [],
   "source": [
    "#do pyco2sys\n",
    "result_calc23 = pyco2.sys(par1=df[\"DIC_cb\"], par2=df[\"pH_insitu_cb\"], par1_type = 2, par2_type=3, \n",
    "                   salinity=df[\"Sal_woa\"], temperature=df[\"Temp_woa\"], pressure=df[\"Pressure\"],\n",
    "                   total_silicate=df[\"SiOH4_cb\"], total_phosphate=df[\"PO4_cb\"])\n",
    "\n",
    "\n",
    "#add the columns that I find necessary\n",
    "new_cols = [\"k_calcite_calc23\", \"Oca_calc23\", \"k_aragonite_calc23\", \"Oar_calc23\", \n",
    "           \"total_calcium_calc23\", \"CO2_calc23\", \"HCO3_calc23\", \"CO3_calc23\"]\n",
    "col = [\"k_calcite\", \"saturation_calcite\", \"k_aragonite\", \"saturation_aragonite\", \n",
    "       \"total_calcium\", \"CO2\", \"HCO3\", \"CO3\"]\n",
    "df[new_cols] = pd.DataFrame(result_calc23)[col]\n",
    "\n",
    "#make an extra column that is just \"Omega\" \n",
    "#which either takes the saturation_calcite or saturation_aragonite value, depending on material type\n",
    "df[\"Omega_calc23\"] = np.where(df[\"Material\"].eq(\"Aragonite\"), df[\"Oar_calc23\"], df[\"Oca_calc23\"])\n",
    "#except for nan or Mg Calcite\n",
    "df.loc[((df[\"Material\"] == \"Mg-Calcite\") | (pd.isna(df[\"Material\"]))), \"Omega_calc23\"] = np.nan\n",
    "df.loc[((df[\"Material\"] == \"Silica\") | (pd.isna(df[\"Material\"]))), \"Omega_calc23\"] = np.nan\n"
   ]
  },
  {
   "cell_type": "markdown",
   "metadata": {},
   "source": [
    "### calculate the metabolic saturation state, based on Subhas et al. (2022)\n",
    "\n",
    "this is with TA and DIC as parameters (and not DIC and pH) because the equations in the paper recalculate those"
   ]
  },
  {
   "cell_type": "code",
   "execution_count": 4,
   "metadata": {},
   "outputs": [],
   "source": [
    "dic_metab = df['DIC_cb'] + df['Doxy_woa'] * 0.688\n",
    "ta_metab = df['TA_cb'] - df['Doxy_woa'] * 0.0941\n",
    "phos_metab = df['PO4_cb'] + df['Doxy_woa'] * 0.0059\n",
    "\n",
    "#do pyco2sys\n",
    "result_metab = pyco2.sys(par1=ta_metab, par2=dic_metab, par1_type = 1, par2_type=2, \n",
    "                   salinity=df[\"Sal_woa\"], temperature=df[\"Temp_woa\"], pressure=df[\"Pressure\"],\n",
    "                   total_silicate=df[\"SiOH4_cb\"], total_phosphate=phos_metab)\n",
    "\n",
    "df[\"Oca_metab_calc12\"] = result_metab['saturation_calcite']\n",
    "df[\"Oar_metab_calc12\"] = result_metab['saturation_aragonite']\n",
    "\n",
    "\n",
    "#make an extra column that is just \"Omega\" \n",
    "#which either takes the saturation_calcite or saturation_aragonite value, depending on material type\n",
    "df[\"Omega_metab_calc12\"] = np.where(df[\"Material\"].eq(\"Aragonite\"), df[\"Oar_metab_calc12\"], \n",
    "                             df[\"Oca_metab_calc12\"])\n",
    "\n",
    "#except for nan or Mg Calcite\n",
    "df.loc[((df[\"Material\"] == \"Mg-Calcite\") | (pd.isna(df[\"Material\"]))), \"Omega_metab_calc12\"] = np.nan\n",
    "df.loc[((df[\"Material\"] == \"Silica\") | (pd.isna(df[\"Material\"]))), \"Omega_metab_calc12\"] = np.nan\n"
   ]
  },
  {
   "cell_type": "markdown",
   "metadata": {},
   "source": [
    "## save resulting dataframe"
   ]
  },
  {
   "cell_type": "code",
   "execution_count": 5,
   "metadata": {},
   "outputs": [],
   "source": [
    "df.to_csv(\"data/in_situ_rates_compiled_allvar.csv\", index=False)"
   ]
  }
 ],
 "metadata": {
  "kernelspec": {
   "display_name": "Python 3 (ipykernel)",
   "language": "python",
   "name": "python3"
  },
  "language_info": {
   "codemirror_mode": {
    "name": "ipython",
    "version": 3
   },
   "file_extension": ".py",
   "mimetype": "text/x-python",
   "name": "python",
   "nbconvert_exporter": "python",
   "pygments_lexer": "ipython3",
   "version": "3.9.13"
  }
 },
 "nbformat": 4,
 "nbformat_minor": 4
}
