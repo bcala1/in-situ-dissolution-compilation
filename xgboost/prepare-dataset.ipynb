{
 "cells": [
  {
   "cell_type": "code",
   "execution_count": 1,
   "id": "fa86dfee",
   "metadata": {},
   "outputs": [],
   "source": [
    "import pandas as pd\n",
    "import numpy as np"
   ]
  },
  {
   "cell_type": "code",
   "execution_count": 2,
   "id": "6b7922de",
   "metadata": {},
   "outputs": [
    {
     "data": {
      "text/plain": [
       "Index(['Depth', 'Source', 'Source_abbrev', 'Latitude', 'Longitude', 'Sample',\n",
       "       'Material', 'Rate_sa', 'Rate_error_sa', 'Organics', 'Device',\n",
       "       'Deployment_d', 'Biogenic', 'Year', 'Comments', 'Mesh', 'Rate_mass',\n",
       "       'Month', 'Size', 'Fragmentation_pct', 'Rate_error_mass', 'Temp_CDisk4',\n",
       "       'pH_CDisk4_T25', 'Salinity_CDisk4', 'TA_CDisk4', 'DIC_CDisk4_calc13',\n",
       "       'Oca_CDisk4_calc13', 'Oar_CDisk4_calc13', 'Omega_CDisk4_calc13',\n",
       "       'Pressure', 'Temp_woa', 'Temp_SD_woa', 'Sal_woa', 'Sal_SD_woa',\n",
       "       'Doxy_woa', 'Doxy_SD_woa', 'PO4_woa', 'SiOH4_woa', 'TA_cb', 'DIC_cb',\n",
       "       'NO3_cb', 'PO4_cb', 'SiOH4_cb', 'pH_insitu_cb', 'k_calcite_calc23',\n",
       "       'Oca_calc23', 'k_aragonite_calc23', 'Oar_calc23',\n",
       "       'total_calcium_calc23', 'CO2_calc23', 'HCO3_calc23', 'CO3_calc23',\n",
       "       'Omega_calc23', 'Oca_metab_calc12', 'Oar_metab_calc12',\n",
       "       'Omega_metab_calc12', 'u_TA_woa', 'u_DIC_woa', 'u_pH_insitu_woa',\n",
       "       'u_SiOH4_woa', 'u_PO4_woa', 'u_TA_woa_cb', 'u_DIC_woa_cb',\n",
       "       'u_pH_insitu_woa_cb', 'u_PO4_woa_cb', 'u_SiOH4_woa_cb', 'u_Oca_calc23',\n",
       "       'u_Oar_calc23', 'u_Omega_calc23'],\n",
       "      dtype='object')"
      ]
     },
     "execution_count": 2,
     "metadata": {},
     "output_type": "execute_result"
    }
   ],
   "source": [
    "diss = pd.read_csv(\"../compilation/data/in_situ_rates_compiled_allvar_uncertainty.csv\")\n",
    "diss.columns"
   ]
  },
  {
   "cell_type": "markdown",
   "id": "7b88cabf",
   "metadata": {},
   "source": [
    "## encode categorical data"
   ]
  },
  {
   "cell_type": "code",
   "execution_count": 3,
   "id": "f5a82d87",
   "metadata": {},
   "outputs": [],
   "source": [
    "# use correct Omega from CDisk4 cruise\n",
    "diss[\"Omega_use\"] = np.where(diss[\"Omega_CDisk4_calc13\"].isna(), \n",
    "                                             diss[\"Omega_calc23\"], diss[\"Omega_calc23\"])\n",
    "\n",
    "# only where I have mass normaized data and where I don't have values for Omega\n",
    "diss = diss.dropna(subset = ['Rate_mass', 'Omega_use'])\n",
    "\n",
    "\n",
    "# add new column to dataset with categorical data\n",
    "# 0 is inorganic\n",
    "# 1 is treated\n",
    "# 2 is untreated\n",
    "conditions  = [diss[\"Biogenic\"] == False, (diss[\"Organics\"] == False), diss[\"Organics\"] == True ]\n",
    "choices     = [ 0, 1, 2 ]\n",
    "diss[\"inorg_treated\"] = np.select(conditions, choices, default=np.nan)\n",
    "\n",
    "# add new column for sizes as numbers (otherwise nan is treated as a separate category instead of no data)\n",
    "conditions  = [diss[\"Size\"] == \"XXXS\", diss[\"Size\"] == \"XXS\", diss[\"Size\"] == \"XS\", diss[\"Size\"] == \"S\", diss[\"Size\"] == \"M\", \n",
    "               diss[\"Size\"] == \"L\", diss[\"Size\"] == \"XL\", diss[\"Size\"] == \"XXL\"]\n",
    "choices     = [1,2,3,4,5,6,7,8]\n",
    "diss[\"Size_num\"] = np.select(conditions, choices, default=np.nan)\n",
    "# diss = diss.sort_values(by=[\"Size_numeric\"], ascending=True)\n",
    "\n",
    "# add new column for method how dissolution was determined\n",
    "# 0 is weight loss\n",
    "# 1 is d13C\n",
    "# 2 is surface roughness\n",
    "conditions  = [diss[\"Source_abbrev\"] == \"s22\", diss[\"Source_abbrev\"] == \"d19\", diss[\"Source_abbrev\"] == \"n19\",\n",
    "               diss[\"Source_abbrev\"] == \"t97\"]\n",
    "choices     = [1,1,1,2]\n",
    "diss[\"Method_num\"] = np.select(conditions, choices, default=0)\n",
    "\n",
    "# Calicte is 0\n",
    "# Aragonite is 1\n",
    "# Mg-calcite not part\n",
    "diss = diss[(diss['Material'] == 'Calcite') | (diss['Material'] == 'Aragonite')]\n",
    "diss['Material_num'] = np.where((diss[\"Material\"] == 'Calcite'), 0, 1)\n",
    "\n",
    "# Device used is 1\n",
    "diss['Device_num'] = np.where((diss[\"Device\"]), 1, 0)\n",
    "\n",
    "# add new column with location\n",
    "# 0 is Atlantic\n",
    "# 1 is Pacific\n",
    "diss[\"Location\"] = np.where((diss[\"Longitude\"] > -80) & (diss[\"Longitude\"] < 0), 0, 1)\n"
   ]
  },
  {
   "cell_type": "markdown",
   "id": "88c7d951",
   "metadata": {},
   "source": [
    "## get rid of missing data"
   ]
  },
  {
   "cell_type": "code",
   "execution_count": 4,
   "id": "3db24e09",
   "metadata": {},
   "outputs": [
    {
     "data": {
      "text/plain": [
       "(579, 31)"
      ]
     },
     "execution_count": 4,
     "metadata": {},
     "output_type": "execute_result"
    }
   ],
   "source": [
    "# delete rows I am using where were data is missing \n",
    "# this deletes all missing rows (because)\n",
    "\n",
    "diss = diss[['Depth', 'Source_abbrev', 'Latitude', 'Longitude',\n",
    "       'Sample', 'Material', 'Organics', 'Device', 'PO4_cb',\n",
    "       'Deployment_d', 'Biogenic', 'Comments', 'Mesh',\n",
    "       'Rate_mass', 'Size', 'Temp_woa', 'Sal_woa', \n",
    "       'TA_cb', 'DIC_cb', 'Doxy_woa', 'Pressure', 'pH_insitu_cb', \n",
    "        'Omega_calc23', \"Omega_use\", \"Size_num\", \"Deployment_d\", 'Material_num',\n",
    "          \"Device_num\", \"inorg_treated\", \"Mesh\", 'Method_num']]\n",
    "\n",
    "\n",
    "#diss = diss[diss['Rate_mass'] > 0.001]\n",
    "\n",
    "diss = diss.dropna()\n",
    "diss.shape"
   ]
  },
  {
   "cell_type": "code",
   "execution_count": 5,
   "id": "71995aa9",
   "metadata": {},
   "outputs": [
    {
     "name": "stdout",
     "output_type": "stream",
     "text": [
      "M77 (106, 31)\n",
      "HE78 (29, 31)\n",
      "T81 (14, 31)\n",
      "M82 (65, 31)\n",
      "F08 (298, 31)\n",
      "N19 (26, 31)\n",
      "D19 (20, 31)\n",
      "S22 (21, 31)\n"
     ]
    }
   ],
   "source": [
    "for s in diss['Source_abbrev'].unique():\n",
    "    print(s, diss[diss['Source_abbrev'] == s].shape)"
   ]
  },
  {
   "cell_type": "markdown",
   "id": "9034f3bf",
   "metadata": {},
   "source": [
    "## save dataset"
   ]
  },
  {
   "cell_type": "code",
   "execution_count": 6,
   "id": "5380915f",
   "metadata": {},
   "outputs": [],
   "source": [
    "diss.to_csv(\"data/in_situ_data_for_regression.csv\", index=False)"
   ]
  }
 ],
 "metadata": {
  "kernelspec": {
   "display_name": "Python [conda env:sklearn-env]",
   "language": "python",
   "name": "conda-env-sklearn-env-py"
  },
  "language_info": {
   "codemirror_mode": {
    "name": "ipython",
    "version": 3
   },
   "file_extension": ".py",
   "mimetype": "text/x-python",
   "name": "python",
   "nbconvert_exporter": "python",
   "pygments_lexer": "ipython3",
   "version": "3.11.0"
  }
 },
 "nbformat": 4,
 "nbformat_minor": 5
}
