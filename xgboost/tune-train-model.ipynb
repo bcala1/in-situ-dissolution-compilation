{
 "cells": [
  {
   "cell_type": "code",
   "execution_count": 1,
   "id": "ca017cef",
   "metadata": {},
   "outputs": [
    {
     "name": "stdout",
     "output_type": "stream",
     "text": [
      "13\n"
     ]
    }
   ],
   "source": [
    "from sklearn.metrics import r2_score, mean_absolute_error, mean_squared_error, explained_variance_score\n",
    "from sklearn.model_selection import train_test_split\n",
    "import xgboost\n",
    "from sklearn.utils import shuffle\n",
    "from sklearn.model_selection import GridSearchCV, learning_curve\n",
    "from sklearn.model_selection import LearningCurveDisplay\n",
    "from sklearn.inspection import PartialDependenceDisplay, permutation_importance\n",
    "#from hyperopt import STATUS_OK, Trials, fmin, hp, tpe\n",
    "\n",
    "import pandas as pd\n",
    "import numpy as np\n",
    "import matplotlib.pyplot as plt\n",
    "\n",
    "# always have same random state across all code files\n",
    "with open('random_state.txt') as f:\n",
    "    random_state= int(f.readline())\n",
    "    \n",
    "print(random_state)"
   ]
  },
  {
   "cell_type": "code",
   "execution_count": 2,
   "id": "0623fe80",
   "metadata": {},
   "outputs": [
    {
     "data": {
      "text/plain": [
       "'1.7.1'"
      ]
     },
     "execution_count": 2,
     "metadata": {},
     "output_type": "execute_result"
    }
   ],
   "source": [
    "xgboost.__version__"
   ]
  },
  {
   "cell_type": "markdown",
   "id": "f3677440",
   "metadata": {},
   "source": [
    "## Prepare data"
   ]
  },
  {
   "cell_type": "code",
   "execution_count": 3,
   "id": "4cde0750",
   "metadata": {},
   "outputs": [
    {
     "data": {
      "text/plain": [
       "Index(['Depth', 'Source_abbrev', 'Latitude', 'Longitude', 'Sample', 'Material',\n",
       "       'Organics', 'Device', 'PO4_cb', 'Deployment_d', 'Biogenic', 'Comments',\n",
       "       'Mesh', 'Rate_mass', 'Size', 'Temp_woa', 'Sal_woa', 'TA_cb', 'DIC_cb',\n",
       "       'Doxy_woa', 'Pressure', 'pH_insitu_cb', 'Omega_calc23', 'Omega_use',\n",
       "       'Size_num', 'Deployment_d.1', 'Material_num', 'Device_num',\n",
       "       'inorg_treated', 'Mesh.1', 'Method_num'],\n",
       "      dtype='object')"
      ]
     },
     "execution_count": 3,
     "metadata": {},
     "output_type": "execute_result"
    }
   ],
   "source": [
    "# load prepared dataset (encoded categorical data, no missing values)\n",
    "diss = pd.read_csv(\"data/in_situ_data_for_regression.csv\")\n",
    "diss.columns"
   ]
  },
  {
   "cell_type": "code",
   "execution_count": 4,
   "id": "bf28d223",
   "metadata": {},
   "outputs": [],
   "source": [
    "# determine weights\n",
    "studysize = {}\n",
    "for s in diss[\"Source_abbrev\"].unique():   \n",
    "    studysize[s] = diss[diss[\"Source_abbrev\"] == s][\"Omega_calc23\"].count()\n",
    "\n",
    "#sample weight\n",
    "weights = [max(studysize.values())/studysize[s] for s in diss[\"Source_abbrev\"]]"
   ]
  },
  {
   "cell_type": "code",
   "execution_count": 5,
   "id": "a5fd6eca",
   "metadata": {},
   "outputs": [
    {
     "name": "stdout",
     "output_type": "stream",
     "text": [
      "(463, 8)\n",
      "(116, 8)\n"
     ]
    }
   ],
   "source": [
    "# split data in test and training\n",
    "feature_names = [\"Omega_use\", \"Size_num\", \"Deployment_d\", 'Material_num',\n",
    "          \"Device_num\", \"inorg_treated\", \"Mesh\", 'Method_num']\n",
    "\n",
    "X = diss[feature_names]\n",
    "y = diss[\"Rate_mass\"]\n",
    "\n",
    "X_train, X_test, y_train, y_test, w_train, w_test = train_test_split(X, y, \n",
    "                                                                     weights, \n",
    "                                                                     train_size=0.8, \n",
    "                                                                     random_state=random_state,\n",
    "                                                                     shuffle=True)\n",
    "print(X_train.shape)\n",
    "print(X_test.shape)"
   ]
  },
  {
   "cell_type": "markdown",
   "id": "a1de8ae0",
   "metadata": {},
   "source": [
    "## Train model"
   ]
  },
  {
   "cell_type": "code",
   "execution_count": 6,
   "id": "df56543b",
   "metadata": {},
   "outputs": [
    {
     "name": "stdout",
     "output_type": "stream",
     "text": [
      "R2 score           0.824\n",
      "RMSE               0.079\n",
      "Mean abs. err.     0.049\n"
     ]
    }
   ],
   "source": [
    "# train with tuned parameters (see below where they were determined)\n",
    "xgbr = xgboost.XGBRegressor(n_estimators=70, max_depth=6, objective=\"reg:squarederror\", min_child_weight=6,\n",
    "                                 reg_alpha=1, colsample_bytree=0.75, learning_rate=0.11, gamma=0,\n",
    "                                 reg_lambda=9, random_state=random_state).fit(X_train, y_train, sample_weight=w_train)\n",
    "\n",
    "\n",
    "# save model\n",
    "xgbr.save_model(\"data/xgboost_regressor_dissolution_rate.json\")\n",
    "\n",
    "# performance on test set\n",
    "y_pred = xgbr.predict(X_test)\n",
    "print(\"R2 score          \", round(r2_score(y_test, y_pred, sample_weight=w_test),3))\n",
    "print(\"RMSE              \", round(mean_squared_error(y_test, y_pred, squared=False, sample_weight=w_test),3))\n",
    "print(\"Mean abs. err.    \", round(mean_absolute_error(y_test, y_pred, sample_weight=w_test),3))"
   ]
  },
  {
   "cell_type": "code",
   "execution_count": 7,
   "id": "a71e6126",
   "metadata": {},
   "outputs": [
    {
     "name": "stdout",
     "output_type": "stream",
     "text": [
      "R2 score           0.847\n",
      "RMSE               0.072\n",
      "Mean abs. err.     0.033\n"
     ]
    }
   ],
   "source": [
    "# comparison to training set\n",
    "y_pred = xgbr.predict(X_train)\n",
    "print(\"R2 score          \", round(r2_score(y_train, y_pred, sample_weight=w_train),3))\n",
    "print(\"RMSE              \", round(mean_squared_error(y_train, y_pred, squared=False, sample_weight=w_train),3))\n",
    "print(\"Mean abs. err.    \", round(mean_absolute_error(y_train, y_pred, sample_weight=w_train),3))"
   ]
  },
  {
   "cell_type": "markdown",
   "id": "7b8b92cd",
   "metadata": {},
   "source": [
    "## Learning curve (check model for over-/under-fitting) (Figure S15)"
   ]
  },
  {
   "cell_type": "code",
   "execution_count": 8,
   "id": "ce6eccf7",
   "metadata": {},
   "outputs": [],
   "source": [
    "train_sizes = [1, 30, 100, 200, 300, 500]\n",
    "X, y = shuffle(X, y, random_state=random_state)\n",
    "train_sizes, train_scores, validation_scores = learning_curve(\n",
    "    estimator = xgbr,\n",
    "    X = X,\n",
    "    y = y, \n",
    "    train_sizes = train_sizes,\n",
    "    cv = 10,\n",
    "    scoring = 'neg_mean_squared_error',\n",
    "    random_state = random_state,\n",
    "    shuffle=True)\n",
    "\n",
    "\n",
    "train_scores_mean = -train_scores.mean(axis = 1)\n",
    "validation_scores_mean = -validation_scores.mean(axis = 1)"
   ]
  },
  {
   "cell_type": "code",
   "execution_count": 9,
   "id": "6fd6bcf4",
   "metadata": {},
   "outputs": [
    {
     "data": {
      "image/png": "[encoded data removed]",
      "text/plain": [
       "<Figure size 800x500 with 1 Axes>"
      ]
     },
     "metadata": {},
     "output_type": "display_data"
    }
   ],
   "source": [
    "plt.figure(figsize=(8,5))\n",
    "plt.plot(train_sizes, train_scores_mean, label = 'Training error')\n",
    "plt.plot(train_sizes, validation_scores_mean, label = 'Validation error')\n",
    "plt.ylabel('MSE', fontsize = 14)\n",
    "plt.xlabel('Training set size', fontsize = 14)\n",
    "#plt.title('Learning curves for a linear regression model', fontsize = 14)\n",
    "plt.legend()\n",
    "plt.xlim(0,500)\n",
    "plt.grid()\n",
    "plt.show()\n",
    "#plt.ylim(0,40)"
   ]
  },
  {
   "cell_type": "markdown",
   "id": "17522566",
   "metadata": {},
   "source": [
    "# ------------------------------------------------------------------------"
   ]
  },
  {
   "cell_type": "markdown",
   "id": "35674c8a",
   "metadata": {},
   "source": [
    "# Tune model (only once at beginning)\n",
    "(more parameters were tested, it was narrowed down to this)"
   ]
  },
  {
   "cell_type": "code",
   "execution_count": 10,
   "id": "0d14639a",
   "metadata": {},
   "outputs": [
    {
     "name": "stdout",
     "output_type": "stream",
     "text": [
      "Fitting 5 folds for each of 1296 candidates, totalling 6480 fits\n"
     ]
    },
    {
     "data": {
      "text/html": [
       "<style>#sk-container-id-1 {color: black;background-color: white;}#sk-container-id-1 pre{padding: 0;}#sk-container-id-1 div.sk-toggleable {background-color: white;}#sk-container-id-1 label.sk-toggleable__label {cursor: pointer;display: block;width: 100%;margin-bottom: 0;padding: 0.3em;box-sizing: border-box;text-align: center;}#sk-container-id-1 label.sk-toggleable__label-arrow:before {content: \"▸\";float: left;margin-right: 0.25em;color: #696969;}#sk-container-id-1 label.sk-toggleable__label-arrow:hover:before {color: black;}#sk-container-id-1 div.sk-estimator:hover label.sk-toggleable__label-arrow:before {color: black;}#sk-container-id-1 div.sk-toggleable__content {max-height: 0;max-width: 0;overflow: hidden;text-align: left;background-color: #f0f8ff;}#sk-container-id-1 div.sk-toggleable__content pre {margin: 0.2em;color: black;border-radius: 0.25em;background-color: #f0f8ff;}#sk-container-id-1 input.sk-toggleable__control:checked~div.sk-toggleable__content {max-height: 200px;max-width: 100%;overflow: auto;}#sk-container-id-1 input.sk-toggleable__control:checked~label.sk-toggleable__label-arrow:before {content: \"▾\";}#sk-container-id-1 div.sk-estimator input.sk-toggleable__control:checked~label.sk-toggleable__label {background-color: #d4ebff;}#sk-container-id-1 div.sk-label input.sk-toggleable__control:checked~label.sk-toggleable__label {background-color: #d4ebff;}#sk-container-id-1 input.sk-hidden--visually {border: 0;clip: rect(1px 1px 1px 1px);clip: rect(1px, 1px, 1px, 1px);height: 1px;margin: -1px;overflow: hidden;padding: 0;position: absolute;width: 1px;}#sk-container-id-1 div.sk-estimator {font-family: monospace;background-color: #f0f8ff;border: 1px dotted black;border-radius: 0.25em;box-sizing: border-box;margin-bottom: 0.5em;}#sk-container-id-1 div.sk-estimator:hover {background-color: #d4ebff;}#sk-container-id-1 div.sk-parallel-item::after {content: \"\";width: 100%;border-bottom: 1px solid gray;flex-grow: 1;}#sk-container-id-1 div.sk-label:hover label.sk-toggleable__label {background-color: #d4ebff;}#sk-container-id-1 div.sk-serial::before {content: \"\";position: absolute;border-left: 1px solid gray;box-sizing: border-box;top: 0;bottom: 0;left: 50%;z-index: 0;}#sk-container-id-1 div.sk-serial {display: flex;flex-direction: column;align-items: center;background-color: white;padding-right: 0.2em;padding-left: 0.2em;position: relative;}#sk-container-id-1 div.sk-item {position: relative;z-index: 1;}#sk-container-id-1 div.sk-parallel {display: flex;align-items: stretch;justify-content: center;background-color: white;position: relative;}#sk-container-id-1 div.sk-item::before, #sk-container-id-1 div.sk-parallel-item::before {content: \"\";position: absolute;border-left: 1px solid gray;box-sizing: border-box;top: 0;bottom: 0;left: 50%;z-index: -1;}#sk-container-id-1 div.sk-parallel-item {display: flex;flex-direction: column;z-index: 1;position: relative;background-color: white;}#sk-container-id-1 div.sk-parallel-item:first-child::after {align-self: flex-end;width: 50%;}#sk-container-id-1 div.sk-parallel-item:last-child::after {align-self: flex-start;width: 50%;}#sk-container-id-1 div.sk-parallel-item:only-child::after {width: 0;}#sk-container-id-1 div.sk-dashed-wrapped {border: 1px dashed gray;margin: 0 0.4em 0.5em 0.4em;box-sizing: border-box;padding-bottom: 0.4em;background-color: white;}#sk-container-id-1 div.sk-label label {font-family: monospace;font-weight: bold;display: inline-block;line-height: 1.2em;}#sk-container-id-1 div.sk-label-container {text-align: center;}#sk-container-id-1 div.sk-container {/* jupyter's `normalize.less` sets `[hidden] { display: none; }` but bootstrap.min.css set `[hidden] { display: none !important; }` so we also need the `!important` here to be able to override the default hidden behavior on the sphinx rendered scikit-learn.org. See: https://github.com/scikit-learn/scikit-learn/issues/21755 */display: inline-block !important;position: relative;}#sk-container-id-1 div.sk-text-repr-fallback {display: none;}</style><div id=\"sk-container-id-1\" class=\"sk-top-container\"><div class=\"sk-text-repr-fallback\"><pre>GridSearchCV(cv=5,\n",
       "             estimator=XGBRegressor(base_score=None, booster=None,\n",
       "                                    callbacks=None, colsample_bylevel=None,\n",
       "                                    colsample_bynode=None,\n",
       "                                    colsample_bytree=None,\n",
       "                                    early_stopping_rounds=None,\n",
       "                                    enable_categorical=False, eval_metric=None,\n",
       "                                    feature_types=None, gamma=None, gpu_id=None,\n",
       "                                    grow_policy=None, importance_type=None,\n",
       "                                    interaction_constraints=None,\n",
       "                                    learning_rate=None, m...\n",
       "                                    monotone_constraints=None, n_estimators=100,\n",
       "                                    n_jobs=None, num_parallel_tree=None,\n",
       "                                    predictor=None, random_state=None, ...),\n",
       "             n_jobs=-1,\n",
       "             param_grid={&#x27;colsample_bytree&#x27;: [0.75, 0.8, 0.85],\n",
       "                         &#x27;gamma&#x27;: [0, 0.01], &#x27;learning_rate&#x27;: [0.1, 0.11, 0.12],\n",
       "                         &#x27;max_depth&#x27;: [6, 7], &#x27;min_child_weight&#x27;: [5, 6, 7],\n",
       "                         &#x27;n_estimators&#x27;: [70, 80], &#x27;reg_alpha&#x27;: [1, 2],\n",
       "                         &#x27;reg_lambda&#x27;: [9, 10, 11]},\n",
       "             scoring=&#x27;r2&#x27;, verbose=True)</pre><b>In a Jupyter environment, please rerun this cell to show the HTML representation or trust the notebook. <br />On GitHub, the HTML representation is unable to render, please try loading this page with nbviewer.org.</b></div><div class=\"sk-container\" hidden><div class=\"sk-item sk-dashed-wrapped\"><div class=\"sk-label-container\"><div class=\"sk-label sk-toggleable\"><input class=\"sk-toggleable__control sk-hidden--visually\" id=\"sk-estimator-id-1\" type=\"checkbox\" ><label for=\"sk-estimator-id-1\" class=\"sk-toggleable__label sk-toggleable__label-arrow\">GridSearchCV</label><div class=\"sk-toggleable__content\"><pre>GridSearchCV(cv=5,\n",
       "             estimator=XGBRegressor(base_score=None, booster=None,\n",
       "                                    callbacks=None, colsample_bylevel=None,\n",
       "                                    colsample_bynode=None,\n",
       "                                    colsample_bytree=None,\n",
       "                                    early_stopping_rounds=None,\n",
       "                                    enable_categorical=False, eval_metric=None,\n",
       "                                    feature_types=None, gamma=None, gpu_id=None,\n",
       "                                    grow_policy=None, importance_type=None,\n",
       "                                    interaction_constraints=None,\n",
       "                                    learning_rate=None, m...\n",
       "                                    monotone_constraints=None, n_estimators=100,\n",
       "                                    n_jobs=None, num_parallel_tree=None,\n",
       "                                    predictor=None, random_state=None, ...),\n",
       "             n_jobs=-1,\n",
       "             param_grid={&#x27;colsample_bytree&#x27;: [0.75, 0.8, 0.85],\n",
       "                         &#x27;gamma&#x27;: [0, 0.01], &#x27;learning_rate&#x27;: [0.1, 0.11, 0.12],\n",
       "                         &#x27;max_depth&#x27;: [6, 7], &#x27;min_child_weight&#x27;: [5, 6, 7],\n",
       "                         &#x27;n_estimators&#x27;: [70, 80], &#x27;reg_alpha&#x27;: [1, 2],\n",
       "                         &#x27;reg_lambda&#x27;: [9, 10, 11]},\n",
       "             scoring=&#x27;r2&#x27;, verbose=True)</pre></div></div></div><div class=\"sk-parallel\"><div class=\"sk-parallel-item\"><div class=\"sk-item\"><div class=\"sk-label-container\"><div class=\"sk-label sk-toggleable\"><input class=\"sk-toggleable__control sk-hidden--visually\" id=\"sk-estimator-id-2\" type=\"checkbox\" ><label for=\"sk-estimator-id-2\" class=\"sk-toggleable__label sk-toggleable__label-arrow\">estimator: XGBRegressor</label><div class=\"sk-toggleable__content\"><pre>XGBRegressor(base_score=None, booster=None, callbacks=None,\n",
       "             colsample_bylevel=None, colsample_bynode=None,\n",
       "             colsample_bytree=None, early_stopping_rounds=None,\n",
       "             enable_categorical=False, eval_metric=None, feature_types=None,\n",
       "             gamma=None, gpu_id=None, grow_policy=None, importance_type=None,\n",
       "             interaction_constraints=None, learning_rate=None, max_bin=None,\n",
       "             max_cat_threshold=None, max_cat_to_onehot=None,\n",
       "             max_delta_step=None, max_depth=None, max_leaves=None,\n",
       "             min_child_weight=None, missing=nan, monotone_constraints=None,\n",
       "             n_estimators=100, n_jobs=None, num_parallel_tree=None,\n",
       "             predictor=None, random_state=None, ...)</pre></div></div></div><div class=\"sk-serial\"><div class=\"sk-item\"><div class=\"sk-estimator sk-toggleable\"><input class=\"sk-toggleable__control sk-hidden--visually\" id=\"sk-estimator-id-3\" type=\"checkbox\" ><label for=\"sk-estimator-id-3\" class=\"sk-toggleable__label sk-toggleable__label-arrow\">XGBRegressor</label><div class=\"sk-toggleable__content\"><pre>XGBRegressor(base_score=None, booster=None, callbacks=None,\n",
       "             colsample_bylevel=None, colsample_bynode=None,\n",
       "             colsample_bytree=None, early_stopping_rounds=None,\n",
       "             enable_categorical=False, eval_metric=None, feature_types=None,\n",
       "             gamma=None, gpu_id=None, grow_policy=None, importance_type=None,\n",
       "             interaction_constraints=None, learning_rate=None, max_bin=None,\n",
       "             max_cat_threshold=None, max_cat_to_onehot=None,\n",
       "             max_delta_step=None, max_depth=None, max_leaves=None,\n",
       "             min_child_weight=None, missing=nan, monotone_constraints=None,\n",
       "             n_estimators=100, n_jobs=None, num_parallel_tree=None,\n",
       "             predictor=None, random_state=None, ...)</pre></div></div></div></div></div></div></div></div></div></div>"
      ],
      "text/plain": [
       "GridSearchCV(cv=5,\n",
       "             estimator=XGBRegressor(base_score=None, booster=None,\n",
       "                                    callbacks=None, colsample_bylevel=None,\n",
       "                                    colsample_bynode=None,\n",
       "                                    colsample_bytree=None,\n",
       "                                    early_stopping_rounds=None,\n",
       "                                    enable_categorical=False, eval_metric=None,\n",
       "                                    feature_types=None, gamma=None, gpu_id=None,\n",
       "                                    grow_policy=None, importance_type=None,\n",
       "                                    interaction_constraints=None,\n",
       "                                    learning_rate=None, m...\n",
       "                                    monotone_constraints=None, n_estimators=100,\n",
       "                                    n_jobs=None, num_parallel_tree=None,\n",
       "                                    predictor=None, random_state=None, ...),\n",
       "             n_jobs=-1,\n",
       "             param_grid={'colsample_bytree': [0.75, 0.8, 0.85],\n",
       "                         'gamma': [0, 0.01], 'learning_rate': [0.1, 0.11, 0.12],\n",
       "                         'max_depth': [6, 7], 'min_child_weight': [5, 6, 7],\n",
       "                         'n_estimators': [70, 80], 'reg_alpha': [1, 2],\n",
       "                         'reg_lambda': [9, 10, 11]},\n",
       "             scoring='r2', verbose=True)"
      ]
     },
     "execution_count": 10,
     "metadata": {},
     "output_type": "execute_result"
    }
   ],
   "source": [
    "regressor = xgboost.XGBRegressor(objective=\"reg:squarederror\")\n",
    "\n",
    "parameters = {\n",
    "    'n_estimators': [70, 80],\n",
    "    \"reg_alpha\": [1, 2],\n",
    "    'learning_rate': [0.1, 0.11, 0.12],\n",
    "    \"reg_lambda\": [9,10,11],\n",
    "    \"gamma\": [0,0.01],\n",
    "    \"max_depth\": [6,7],\n",
    "    \"min_child_weight\": [5,6,7],\n",
    "    \"colsample_bytree\": [0.75, 0.8, 0.85]    \n",
    "}\n",
    "\n",
    "\n",
    "grid_search = GridSearchCV(\n",
    "    estimator=regressor,\n",
    "    param_grid=parameters,\n",
    "    scoring = 'r2',\n",
    "    n_jobs = -1,\n",
    "    cv = 5,\n",
    "    verbose=True\n",
    ")\n",
    "\n",
    "grid_search.fit(X_train, y_train, sample_weight=w_train)\n",
    "\n"
   ]
  },
  {
   "cell_type": "code",
   "execution_count": 11,
   "id": "bf428c1e",
   "metadata": {},
   "outputs": [
    {
     "name": "stdout",
     "output_type": "stream",
     "text": [
      "Best Parameters: \n",
      "{'colsample_bytree': 0.75, 'gamma': 0, 'learning_rate': 0.11, 'max_depth': 6, 'min_child_weight': 6, 'n_estimators': 70, 'reg_alpha': 1, 'reg_lambda': 9}\n",
      "\n",
      "Best Test Score: \n",
      "0.4752244447300578\n",
      "\n"
     ]
    }
   ],
   "source": [
    "# new\n",
    "print(\"Best Parameters: \\n{}\\n\".format(grid_search.best_params_))\n",
    "print(\"Best Test Score: \\n{}\\n\".format(grid_search.best_score_))"
   ]
  },
  {
   "cell_type": "code",
   "execution_count": null,
   "id": "76b3ac29",
   "metadata": {},
   "outputs": [],
   "source": []
  }
 ],
 "metadata": {
  "kernelspec": {
   "display_name": "Python [conda env:sklearn-env]",
   "language": "python",
   "name": "conda-env-sklearn-env-py"
  },
  "language_info": {
   "codemirror_mode": {
    "name": "ipython",
    "version": 3
   },
   "file_extension": ".py",
   "mimetype": "text/x-python",
   "name": "python",
   "nbconvert_exporter": "python",
   "pygments_lexer": "ipython3",
   "version": "3.11.0"
  }
 },
 "nbformat": 4,
 "nbformat_minor": 5
}
